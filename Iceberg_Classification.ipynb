{
  "nbformat": 4,
  "nbformat_minor": 0,
  "metadata": {
    "colab": {
      "name": "Iceberg Classification.ipynb",
      "provenance": [],
      "collapsed_sections": []
    },
    "kernelspec": {
      "name": "python3",
      "display_name": "Python 3"
    },
    "accelerator": "GPU"
  },
  "cells": [
    {
      "cell_type": "markdown",
      "metadata": {
        "id": "09qPCJZvdG_t"
      },
      "source": [
        "# Introduction\n",
        "- 멀리 있는 물체가 빙하 또는 선박인지 확인하는 모델을 만들어 보자."
      ]
    },
    {
      "cell_type": "code",
      "metadata": {
        "id": "j9AMZMmFb59S"
      },
      "source": [
        "# import module\n",
        "import numpy as np\n",
        "import pandas as pd\n",
        "from subprocess import check_output\n",
        "from sklearn.model_selection import train_test_split, StratifiedKFold\n",
        "from os.path import join as opj\n",
        "from matplotlib import pyplot as plt\n",
        "from mpl_toolkits.mplot3d import Axes3D\n",
        "import pylab\n",
        "import seaborn as sns\n",
        "plt.rcParams['figure.figsize'] = 10, 10\n",
        "%matplotlib inline"
      ],
      "execution_count": 1,
      "outputs": []
    },
    {
      "cell_type": "markdown",
      "metadata": {
        "id": "IOrNsWNTYxYv"
      },
      "source": [
        "Loading Data"
      ]
    },
    {
      "cell_type": "code",
      "metadata": {
        "id": "5cH-ymnzb-JR"
      },
      "source": [
        "train = pd.read_json('/content/drive/My Drive/Kaggle/Iceberg Classification/train.json')\n",
        "test = pd.read_json('/content/drive/My Drive/Kaggle/Iceberg Classification/test.json')"
      ],
      "execution_count": 2,
      "outputs": []
    },
    {
      "cell_type": "markdown",
      "metadata": {
        "id": "hN6BHQbGcZ8v"
      },
      "source": [
        "#Data at one sight"
      ]
    },
    {
      "cell_type": "markdown",
      "metadata": {
        "id": "jkvAbCeRdchL"
      },
      "source": [
        "데이터에 대한 설명이 처음에 주어졌다. \n",
        "- id : id of the image\n",
        "- band_1, band_2 : the flatted image data. 75*75 pixel values. Band1, Band2 는 radar backscatter로 특징지어진 신호다. 여기에 두 가지 value가 있다. HH(transmit/recieve horizontally), HV(transmit horizontally and receive vertically).\n",
        "- inc_angle : the incidence angle of which the image was taken. missing data는 na로 처리되었다.\n",
        "- is_iceberg : the target variable, set to 1 if it is and iceberg, and 0 if it is a ship.\n"
      ]
    },
    {
      "cell_type": "code",
      "metadata": {
        "id": "BgmJq0cVcpiV",
        "outputId": "5e69193c-00d0-4501-e2fa-063b067d98ed",
        "colab": {
          "base_uri": "https://localhost:8080/",
          "height": 195
        }
      },
      "source": [
        "train.head()"
      ],
      "execution_count": 3,
      "outputs": [
        {
          "output_type": "execute_result",
          "data": {
            "text/html": [
              "<div>\n",
              "<style scoped>\n",
              "    .dataframe tbody tr th:only-of-type {\n",
              "        vertical-align: middle;\n",
              "    }\n",
              "\n",
              "    .dataframe tbody tr th {\n",
              "        vertical-align: top;\n",
              "    }\n",
              "\n",
              "    .dataframe thead th {\n",
              "        text-align: right;\n",
              "    }\n",
              "</style>\n",
              "<table border=\"1\" class=\"dataframe\">\n",
              "  <thead>\n",
              "    <tr style=\"text-align: right;\">\n",
              "      <th></th>\n",
              "      <th>id</th>\n",
              "      <th>band_1</th>\n",
              "      <th>band_2</th>\n",
              "      <th>inc_angle</th>\n",
              "      <th>is_iceberg</th>\n",
              "    </tr>\n",
              "  </thead>\n",
              "  <tbody>\n",
              "    <tr>\n",
              "      <th>0</th>\n",
              "      <td>dfd5f913</td>\n",
              "      <td>[-27.878360999999998, -27.15416, -28.668615, -...</td>\n",
              "      <td>[-27.154118, -29.537888, -31.0306, -32.190483,...</td>\n",
              "      <td>43.9239</td>\n",
              "      <td>0</td>\n",
              "    </tr>\n",
              "    <tr>\n",
              "      <th>1</th>\n",
              "      <td>e25388fd</td>\n",
              "      <td>[-12.242375, -14.920304999999999, -14.920363, ...</td>\n",
              "      <td>[-31.506321, -27.984554, -26.645678, -23.76760...</td>\n",
              "      <td>38.1562</td>\n",
              "      <td>0</td>\n",
              "    </tr>\n",
              "    <tr>\n",
              "      <th>2</th>\n",
              "      <td>58b2aaa0</td>\n",
              "      <td>[-24.603676, -24.603714, -24.871029, -23.15277...</td>\n",
              "      <td>[-24.870956, -24.092632, -20.653963, -19.41104...</td>\n",
              "      <td>45.2859</td>\n",
              "      <td>1</td>\n",
              "    </tr>\n",
              "    <tr>\n",
              "      <th>3</th>\n",
              "      <td>4cfc3a18</td>\n",
              "      <td>[-22.454607, -23.082819, -23.998013, -23.99805...</td>\n",
              "      <td>[-27.889421, -27.519794, -27.165262, -29.10350...</td>\n",
              "      <td>43.8306</td>\n",
              "      <td>0</td>\n",
              "    </tr>\n",
              "    <tr>\n",
              "      <th>4</th>\n",
              "      <td>271f93f4</td>\n",
              "      <td>[-26.006956, -23.164886, -23.164886, -26.89116...</td>\n",
              "      <td>[-27.206915, -30.259186, -30.259186, -23.16495...</td>\n",
              "      <td>35.6256</td>\n",
              "      <td>0</td>\n",
              "    </tr>\n",
              "  </tbody>\n",
              "</table>\n",
              "</div>"
            ],
            "text/plain": [
              "         id  ... is_iceberg\n",
              "0  dfd5f913  ...          0\n",
              "1  e25388fd  ...          0\n",
              "2  58b2aaa0  ...          1\n",
              "3  4cfc3a18  ...          0\n",
              "4  271f93f4  ...          0\n",
              "\n",
              "[5 rows x 5 columns]"
            ]
          },
          "metadata": {
            "tags": []
          },
          "execution_count": 3
        }
      ]
    },
    {
      "cell_type": "code",
      "metadata": {
        "id": "6tkka256ZE-Y",
        "outputId": "4ab6c0e1-4d6f-4dad-b753-c71f03e8e276",
        "colab": {
          "base_uri": "https://localhost:8080/",
          "height": 34
        }
      },
      "source": [
        "len(train)"
      ],
      "execution_count": 4,
      "outputs": [
        {
          "output_type": "execute_result",
          "data": {
            "text/plain": [
              "1604"
            ]
          },
          "metadata": {
            "tags": []
          },
          "execution_count": 4
        }
      ]
    },
    {
      "cell_type": "code",
      "metadata": {
        "id": "J_ItQFDJIuH3",
        "outputId": "911b9864-bcdb-470f-b096-5cca8752df6e",
        "colab": {
          "base_uri": "https://localhost:8080/",
          "height": 195
        }
      },
      "source": [
        "test.head()"
      ],
      "execution_count": 5,
      "outputs": [
        {
          "output_type": "execute_result",
          "data": {
            "text/html": [
              "<div>\n",
              "<style scoped>\n",
              "    .dataframe tbody tr th:only-of-type {\n",
              "        vertical-align: middle;\n",
              "    }\n",
              "\n",
              "    .dataframe tbody tr th {\n",
              "        vertical-align: top;\n",
              "    }\n",
              "\n",
              "    .dataframe thead th {\n",
              "        text-align: right;\n",
              "    }\n",
              "</style>\n",
              "<table border=\"1\" class=\"dataframe\">\n",
              "  <thead>\n",
              "    <tr style=\"text-align: right;\">\n",
              "      <th></th>\n",
              "      <th>id</th>\n",
              "      <th>band_1</th>\n",
              "      <th>band_2</th>\n",
              "      <th>inc_angle</th>\n",
              "    </tr>\n",
              "  </thead>\n",
              "  <tbody>\n",
              "    <tr>\n",
              "      <th>0</th>\n",
              "      <td>5941774d</td>\n",
              "      <td>[-15.863251, -15.201077, -17.887735, -19.17248...</td>\n",
              "      <td>[-21.629612, -21.142353, -23.908337, -28.34524...</td>\n",
              "      <td>34.966400</td>\n",
              "    </tr>\n",
              "    <tr>\n",
              "      <th>1</th>\n",
              "      <td>4023181e</td>\n",
              "      <td>[-26.058969497680664, -26.058969497680664, -26...</td>\n",
              "      <td>[-25.754207611083984, -25.754207611083984, -25...</td>\n",
              "      <td>32.615072</td>\n",
              "    </tr>\n",
              "    <tr>\n",
              "      <th>2</th>\n",
              "      <td>b20200e4</td>\n",
              "      <td>[-14.14109992980957, -15.064241409301758, -17....</td>\n",
              "      <td>[-14.74563980102539, -14.590410232543945, -14....</td>\n",
              "      <td>37.505433</td>\n",
              "    </tr>\n",
              "    <tr>\n",
              "      <th>3</th>\n",
              "      <td>e7f018bb</td>\n",
              "      <td>[-12.167478, -13.706167, -16.54837, -13.572674...</td>\n",
              "      <td>[-24.32222, -26.375538, -24.096739, -23.8769, ...</td>\n",
              "      <td>34.473900</td>\n",
              "    </tr>\n",
              "    <tr>\n",
              "      <th>4</th>\n",
              "      <td>4371c8c3</td>\n",
              "      <td>[-23.37459373474121, -26.02718162536621, -28.1...</td>\n",
              "      <td>[-25.72234344482422, -27.011577606201172, -23....</td>\n",
              "      <td>43.918874</td>\n",
              "    </tr>\n",
              "  </tbody>\n",
              "</table>\n",
              "</div>"
            ],
            "text/plain": [
              "         id  ...  inc_angle\n",
              "0  5941774d  ...  34.966400\n",
              "1  4023181e  ...  32.615072\n",
              "2  b20200e4  ...  37.505433\n",
              "3  e7f018bb  ...  34.473900\n",
              "4  4371c8c3  ...  43.918874\n",
              "\n",
              "[5 rows x 4 columns]"
            ]
          },
          "metadata": {
            "tags": []
          },
          "execution_count": 5
        }
      ]
    },
    {
      "cell_type": "code",
      "metadata": {
        "id": "g07oCQZn7fcw",
        "outputId": "0bb7e86e-fba1-46f6-ed63-eff3dd16436d",
        "colab": {
          "base_uri": "https://localhost:8080/",
          "height": 374
        }
      },
      "source": [
        "f, ax = plt.subplots(1,1,figsize=(15,6))\n",
        "sns.barplot(x=['not iceberg', 'iceberg'], y=train.groupby(['is_iceberg'], as_index=False).count()['id'])\n",
        "plt.show()"
      ],
      "execution_count": 6,
      "outputs": [
        {
          "output_type": "display_data",
          "data": {
            "image/png": "[encoded data removed]",
            "text/plain": [
              "<Figure size 1080x432 with 1 Axes>"
            ]
          },
          "metadata": {
            "tags": [],
            "needs_background": "light"
          }
        }
      ]
    },
    {
      "cell_type": "markdown",
      "metadata": {
        "id": "zfaL197b8Jza"
      },
      "source": [
        "- 데이터가 balanced하다"
      ]
    },
    {
      "cell_type": "markdown",
      "metadata": {
        "id": "MC0Yp_9qyNzm"
      },
      "source": [
        "# Plotting some images\n",
        "- It's good to plot some images before we do. That way, we can get some sense of what we're looking at."
      ]
    },
    {
      "cell_type": "code",
      "metadata": {
        "id": "8QGGodnhyMQw",
        "outputId": "f448185b-1c28-4d4e-bd3a-4a0b99c39e82",
        "colab": {
          "base_uri": "https://localhost:8080/",
          "height": 168
        }
      },
      "source": [
        "img1 = np.array(train.iloc[0]['band_1']).reshape((75,75))\n",
        "plt.subplot(1,3,1)\n",
        "plt.imshow(img1)\n",
        "\n",
        "plt.subplot(1,3,2)\n",
        "img2 = np.array(train.iloc[0]['band_2']).reshape((75,75))\n",
        "plt.imshow(img2)\n",
        "plt.subplot(1,3,3)\n",
        "plt.imshow(img1 + img2)"
      ],
      "execution_count": 7,
      "outputs": [
        {
          "output_type": "execute_result",
          "data": {
            "text/plain": [
              "<matplotlib.image.AxesImage at 0x7fbef73d2a20>"
            ]
          },
          "metadata": {
            "tags": []
          },
          "execution_count": 7
        },
        {
          "output_type": "display_data",
          "data": {
            "image/png": "[encoded data removed]",
            "text/plain": [
              "<Figure size 432x288 with 3 Axes>"
            ]
          },
          "metadata": {
            "tags": [],
            "needs_background": "light"
          }
        }
      ]
    },
    {
      "cell_type": "code",
      "metadata": {
        "id": "T6SSizvocwQu"
      },
      "source": [
        "#training data\n",
        "X_band_1 = np.array([np.array(band).astype(np.float32).reshape(75,75) for band in train['band_1']])\n",
        "X_band_2=np.array([np.array(band).astype(np.float32).reshape(75, 75) for band in train[\"band_2\"]])\n",
        "X_train = np.concatenate([X_band_1[:, :, :, np.newaxis], X_band_2[:, :, :, np.newaxis],((X_band_1+X_band_2)/2)[:, :, :, np.newaxis]], axis=-1)\n",
        "\n",
        "y_train = train['is_iceberg']"
      ],
      "execution_count": 8,
      "outputs": []
    },
    {
      "cell_type": "code",
      "metadata": {
        "id": "N5ZUsbDRDYr_"
      },
      "source": [
        "#test data\n",
        "X_band_test_1 = np.array([np.array(band).astype(np.float32).reshape(75,75) for band in test['band_1']])\n",
        "X_band_test_2 = np.array([np.array(band).astype(np.float32).reshape(75, 75) for band in test['band_2']])\n",
        "X_test = np.concatenate([X_band_test_1[:, :, :, np.newaxis]\n",
        "                          , X_band_test_2[:, :, :, np.newaxis]\n",
        "                         , ((X_band_test_1+X_band_test_2)/2)[:, :, :, np.newaxis]], axis=-1)"
      ],
      "execution_count": 9,
      "outputs": []
    },
    {
      "cell_type": "code",
      "metadata": {
        "id": "s0EaK2L1DyL4"
      },
      "source": [
        "train['inc_angle'] = pd.to_numeric(train['inc_angle'], errors='coerce')\n",
        "test['inc_angle'] = pd.to_numeric(test['inc_angle'], errors='coerce')\n",
        "\n",
        "train['inc_angle'] = train['inc_angle'].fillna(method='pad') # 결측값 주변값으로 채우기\n",
        "test['inc_angle'] = test['inc_angle'].fillna(method='pad')\n",
        "\n",
        "X_train_angle = train['inc_angle']\n",
        "x_test_angle = test['inc_angle']"
      ],
      "execution_count": 10,
      "outputs": []
    },
    {
      "cell_type": "code",
      "metadata": {
        "id": "H939ceuGzA1q",
        "outputId": "86dc5a94-cb76-4ca2-c566-4db2236b3c5f",
        "colab": {
          "base_uri": "https://localhost:8080/",
          "height": 879
        }
      },
      "source": [
        "X_train[0]"
      ],
      "execution_count": 11,
      "outputs": [
        {
          "output_type": "execute_result",
          "data": {
            "text/plain": [
              "array([[[-27.87836 , -27.154118, -27.51624 ],\n",
              "        [-27.15416 , -29.537888, -28.346024],\n",
              "        [-28.668615, -31.0306  , -29.849607],\n",
              "        ...,\n",
              "        [-25.573483, -29.095308, -27.334396],\n",
              "        [-26.488674, -29.540878, -28.014776],\n",
              "        [-30.507013, -27.511766, -29.00939 ]],\n",
              "\n",
              "       [[-28.66853 , -31.030518, -29.849524],\n",
              "        [-27.8784  , -33.529335, -30.703869],\n",
              "        [-27.508776, -31.591175, -29.549976],\n",
              "        ...,\n",
              "        [-26.488632, -34.288055, -30.388344],\n",
              "        [-28.671562, -28.267496, -28.469528],\n",
              "        [-31.594166, -26.488716, -29.041441]],\n",
              "\n",
              "       [[-28.66853 , -33.52929 , -31.09891 ],\n",
              "        [-27.15416 , -37.05116 , -32.10266 ],\n",
              "        [-25.865042, -31.591175, -28.728107],\n",
              "        ...,\n",
              "        [-27.157106, -31.594084, -29.375595],\n",
              "        [-27.881393, -32.19339 , -30.037392],\n",
              "        [-32.837124, -29.54092 , -31.189022]],\n",
              "\n",
              "       ...,\n",
              "\n",
              "       [[-29.092905, -27.87895 , -28.485928],\n",
              "        [-28.669163, -27.878992, -28.274078],\n",
              "        [-30.504612, -30.00814 , -30.256376],\n",
              "        ...,\n",
              "        [-30.011005, -25.28922 , -27.650112],\n",
              "        [-25.868538, -27.512272, -26.690405],\n",
              "        [-26.489265, -28.672153, -27.58071 ]],\n",
              "\n",
              "       [[-31.591682, -29.538437, -30.56506 ],\n",
              "        [-27.878992, -29.538477, -28.708735],\n",
              "        [-28.669205, -29.09299 , -28.881098],\n",
              "        ...,\n",
              "        [-27.512272, -28.672112, -28.092192],\n",
              "        [-26.817074, -28.268087, -27.54258 ],\n",
              "        [-27.512358, -33.53296 , -30.52266 ]],\n",
              "\n",
              "       [[-29.092905, -30.008057, -29.55048 ],\n",
              "        [-26.814081, -28.669163, -27.741623],\n",
              "        [-27.15479 , -27.509365, -27.332077],\n",
              "        ...,\n",
              "        [-26.817032, -30.507519, -28.662275],\n",
              "        [-27.881983, -28.672153, -28.27707 ],\n",
              "        [-28.268127, -29.095982, -28.682055]]], dtype=float32)"
            ]
          },
          "metadata": {
            "tags": []
          },
          "execution_count": 11
        }
      ]
    },
    {
      "cell_type": "markdown",
      "metadata": {
        "id": "oEr_RtIp4n78"
      },
      "source": [
        ""
      ]
    },
    {
      "cell_type": "markdown",
      "metadata": {
        "id": "jVW-ezQQ2sIh"
      },
      "source": [
        "Let's look at more image"
      ]
    },
    {
      "cell_type": "markdown",
      "metadata": {
        "id": "0AlFF3QlFLnt"
      },
      "source": [
        "# Data Preprocessing"
      ]
    },
    {
      "cell_type": "code",
      "metadata": {
        "id": "p_TsvDT6JIjS"
      },
      "source": [
        "from sklearn.model_selection import train_test_split\n",
        "\n",
        "X_train, X_valid, X_train_angle, X_valid_angle, y_train, y_valid = train_test_split(X_train,\n",
        "                                    X_train_angle, y_train, random_state=42, train_size=0.8)"
      ],
      "execution_count": 12,
      "outputs": []
    },
    {
      "cell_type": "markdown",
      "metadata": {
        "id": "nqPFwU9JHFTT"
      },
      "source": [
        "## Building Model"
      ]
    },
    {
      "cell_type": "code",
      "metadata": {
        "id": "aJCqYo2WG-4g"
      },
      "source": [
        "#import module\n",
        "import keras\n",
        "from keras import optimizers\n",
        "from keras.preprocessing.image import ImageDataGenerator\n",
        "from keras.models import Sequential, Model\n",
        "from keras.layers import Layer, Conv2D, MaxPooling2D,GlobalMaxPooling2D, Dense, Dropout, Input, Flatten, Activation\n",
        "from keras.layers.normalization import BatchNormalization\n",
        "from keras.layers.merge import Concatenate\n",
        "from keras import initializers\n",
        "from keras.layers.advanced_activations import LeakyReLU, PReLU\n",
        "from keras.callbacks import ModelCheckpoint, Callback, EarlyStopping,ReduceLROnPlateau\n",
        "from keras.optimizers import Adam\n",
        "from keras.datasets import cifar10\n",
        "from keras.applications.inception_v3 import InceptionV3\n",
        "from keras.applications.vgg16 import VGG16\n",
        "from keras.applications.xception import Xception\n",
        "from keras.applications.mobilenet import MobileNet\n",
        "from keras.applications.vgg19 import VGG19"
      ],
      "execution_count": 13,
      "outputs": []
    },
    {
      "cell_type": "code",
      "metadata": {
        "id": "-H-mZ3CAfcxg"
      },
      "source": [
        "model = keras.models.Sequential()\n",
        "#conv layer 1\n",
        "model.add(Conv2D(64, kernel_size=(3,3), activation='relu', input_shape=(75,75,3)))\n",
        "model.add(MaxPooling2D(pool_size=(3,3), strides=(2,2)))\n",
        "model.add(Dropout(0.2))\n",
        "\n",
        "#conv layer 2\n",
        "model.add(Conv2D(128, kernel_size=(3,3), activation='relu'))\n",
        "model.add(MaxPooling2D(pool_size=(2,2), strides=(2,2)))\n",
        "model.add(Dropout(0.2))\n",
        "\n",
        "#Conv layer 3\n",
        "model.add(Conv2D(128, kernel_size=(3,3), activation='relu'))\n",
        "model.add(MaxPooling2D(pool_size=(2,2), strides=(2,2)))\n",
        "model.add(Dropout(0.2))\n",
        "\n",
        "#Conv layer 4\n",
        "model.add(Conv2D(64, kernel_size=(3,3), activation='relu'))\n",
        "model.add(MaxPooling2D(pool_size=(2,2), strides=(2,2)))\n",
        "model.add(Dropout(0.2))\n",
        "\n",
        "#You must flatten the data for the dense layer\n",
        "model.add(Flatten())\n",
        "\n",
        "#Dense layer1\n",
        "model.add(Dense(512))\n",
        "model.add(Activation('relu'))\n",
        "model.add(Dropout(0.2))\n",
        "\n",
        "#Dense layer 2\n",
        "model.add(Dense(256))\n",
        "model.add(Activation('relu'))\n",
        "model.add(Dropout(0.2))\n",
        "\n",
        "model.add(Dense(1))\n",
        "model.add(Activation('sigmoid'))\n",
        "\n",
        "optim = Adam(lr=0.001, beta_1=0.9, beta_2=0.999, epsilon=1e-08, decay=0)\n",
        "model.compile(loss='binary_crossentropy',\n",
        "              optimizer=optim,\n",
        "              metrics=['accuracy'])"
      ],
      "execution_count": 16,
      "outputs": []
    },
    {
      "cell_type": "code",
      "metadata": {
        "id": "BeuxcNV7hm4h",
        "outputId": "cc0bbcb6-3ebc-4472-dabb-6892918506ea",
        "colab": {
          "base_uri": "https://localhost:8080/",
          "height": 897
        }
      },
      "source": [
        "model.summary()"
      ],
      "execution_count": 18,
      "outputs": [
        {
          "output_type": "stream",
          "text": [
            "Model: \"sequential_1\"\n",
            "_________________________________________________________________\n",
            "Layer (type)                 Output Shape              Param #   \n",
            "=================================================================\n",
            "conv2d_4 (Conv2D)            (None, 73, 73, 64)        1792      \n",
            "_________________________________________________________________\n",
            "max_pooling2d_4 (MaxPooling2 (None, 36, 36, 64)        0         \n",
            "_________________________________________________________________\n",
            "dropout_6 (Dropout)          (None, 36, 36, 64)        0         \n",
            "_________________________________________________________________\n",
            "conv2d_5 (Conv2D)            (None, 34, 34, 128)       73856     \n",
            "_________________________________________________________________\n",
            "max_pooling2d_5 (MaxPooling2 (None, 17, 17, 128)       0         \n",
            "_________________________________________________________________\n",
            "dropout_7 (Dropout)          (None, 17, 17, 128)       0         \n",
            "_________________________________________________________________\n",
            "conv2d_6 (Conv2D)            (None, 15, 15, 128)       147584    \n",
            "_________________________________________________________________\n",
            "max_pooling2d_6 (MaxPooling2 (None, 7, 7, 128)         0         \n",
            "_________________________________________________________________\n",
            "dropout_8 (Dropout)          (None, 7, 7, 128)         0         \n",
            "_________________________________________________________________\n",
            "conv2d_7 (Conv2D)            (None, 5, 5, 64)          73792     \n",
            "_________________________________________________________________\n",
            "max_pooling2d_7 (MaxPooling2 (None, 2, 2, 64)          0         \n",
            "_________________________________________________________________\n",
            "dropout_9 (Dropout)          (None, 2, 2, 64)          0         \n",
            "_________________________________________________________________\n",
            "flatten_1 (Flatten)          (None, 256)               0         \n",
            "_________________________________________________________________\n",
            "dense_3 (Dense)              (None, 512)               131584    \n",
            "_________________________________________________________________\n",
            "activation_3 (Activation)    (None, 512)               0         \n",
            "_________________________________________________________________\n",
            "dropout_10 (Dropout)         (None, 512)               0         \n",
            "_________________________________________________________________\n",
            "dense_4 (Dense)              (None, 256)               131328    \n",
            "_________________________________________________________________\n",
            "activation_4 (Activation)    (None, 256)               0         \n",
            "_________________________________________________________________\n",
            "dropout_11 (Dropout)         (None, 256)               0         \n",
            "_________________________________________________________________\n",
            "dense_5 (Dense)              (None, 1)                 257       \n",
            "_________________________________________________________________\n",
            "activation_5 (Activation)    (None, 1)                 0         \n",
            "=================================================================\n",
            "Total params: 560,193\n",
            "Trainable params: 560,193\n",
            "Non-trainable params: 0\n",
            "_________________________________________________________________\n"
          ],
          "name": "stdout"
        }
      ]
    },
    {
      "cell_type": "code",
      "metadata": {
        "id": "jgtAGFTmG-7V"
      },
      "source": [
        "def get_callbacks(filepath, patience=2):\n",
        "  es = EarlyStopping('val_loss', patience=10, mode='min')\n",
        "  msave = ModelCheckpoint(filepath, save_best_only=True)\n",
        "  return [es, msave]\n",
        "\n",
        "file_path = \".model_weights.hdf5\"\n",
        "callbacks = get_callbacks(filepath=file_path, patience=5)"
      ],
      "execution_count": 19,
      "outputs": []
    },
    {
      "cell_type": "markdown",
      "metadata": {
        "id": "_565Mlci_vAL"
      },
      "source": [
        "## Training Model"
      ]
    },
    {
      "cell_type": "code",
      "metadata": {
        "id": "Qz_UmJH7loby",
        "outputId": "5ad396f3-ec8e-4a85-e954-6e8d28a0bdd9",
        "colab": {
          "base_uri": "https://localhost:8080/",
          "height": 950
        }
      },
      "source": [
        "import os\n",
        "model.fit(X_train, y_train,\n",
        "          batch_size=32,\n",
        "          epochs=50,\n",
        "          verbose=1,\n",
        "          validation_data=(X_valid, y_valid),\n",
        "          callbacks=callbacks)"
      ],
      "execution_count": 20,
      "outputs": [
        {
          "output_type": "stream",
          "text": [
            "Epoch 1/50\n",
            "41/41 [==============================] - 1s 25ms/step - loss: 1.1542 - accuracy: 0.5160 - val_loss: 0.6594 - val_accuracy: 0.6698\n",
            "Epoch 2/50\n",
            "41/41 [==============================] - 1s 16ms/step - loss: 0.5764 - accuracy: 0.6329 - val_loss: 0.5695 - val_accuracy: 0.7040\n",
            "Epoch 3/50\n",
            "41/41 [==============================] - 1s 16ms/step - loss: 0.5110 - accuracy: 0.7311 - val_loss: 0.4903 - val_accuracy: 0.7944\n",
            "Epoch 4/50\n",
            "41/41 [==============================] - 1s 15ms/step - loss: 0.5150 - accuracy: 0.7256 - val_loss: 0.5221 - val_accuracy: 0.7601\n",
            "Epoch 5/50\n",
            "41/41 [==============================] - 1s 16ms/step - loss: 0.4533 - accuracy: 0.7740 - val_loss: 0.4007 - val_accuracy: 0.8100\n",
            "Epoch 6/50\n",
            "41/41 [==============================] - 1s 15ms/step - loss: 0.4271 - accuracy: 0.7825 - val_loss: 0.4063 - val_accuracy: 0.8131\n",
            "Epoch 7/50\n",
            "41/41 [==============================] - 1s 16ms/step - loss: 0.4059 - accuracy: 0.8059 - val_loss: 0.3746 - val_accuracy: 0.8224\n",
            "Epoch 8/50\n",
            "41/41 [==============================] - 1s 14ms/step - loss: 0.4135 - accuracy: 0.8059 - val_loss: 0.4347 - val_accuracy: 0.7850\n",
            "Epoch 9/50\n",
            "41/41 [==============================] - 1s 15ms/step - loss: 0.3888 - accuracy: 0.8083 - val_loss: 0.4429 - val_accuracy: 0.7664\n",
            "Epoch 10/50\n",
            "41/41 [==============================] - 1s 15ms/step - loss: 0.3774 - accuracy: 0.8075 - val_loss: 0.4826 - val_accuracy: 0.7913\n",
            "Epoch 11/50\n",
            "41/41 [==============================] - 1s 16ms/step - loss: 0.3944 - accuracy: 0.8192 - val_loss: 0.3584 - val_accuracy: 0.8474\n",
            "Epoch 12/50\n",
            "41/41 [==============================] - 1s 15ms/step - loss: 0.3544 - accuracy: 0.8254 - val_loss: 0.3585 - val_accuracy: 0.8474\n",
            "Epoch 13/50\n",
            "41/41 [==============================] - 1s 16ms/step - loss: 0.3319 - accuracy: 0.8394 - val_loss: 0.3425 - val_accuracy: 0.8474\n",
            "Epoch 14/50\n",
            "41/41 [==============================] - 1s 16ms/step - loss: 0.3434 - accuracy: 0.8402 - val_loss: 0.3261 - val_accuracy: 0.8131\n",
            "Epoch 15/50\n",
            "41/41 [==============================] - 1s 14ms/step - loss: 0.3131 - accuracy: 0.8441 - val_loss: 0.4282 - val_accuracy: 0.7445\n",
            "Epoch 16/50\n",
            "41/41 [==============================] - 1s 16ms/step - loss: 0.2947 - accuracy: 0.8542 - val_loss: 0.3042 - val_accuracy: 0.8474\n",
            "Epoch 17/50\n",
            "41/41 [==============================] - 1s 14ms/step - loss: 0.3066 - accuracy: 0.8480 - val_loss: 0.3615 - val_accuracy: 0.8255\n",
            "Epoch 18/50\n",
            "41/41 [==============================] - 1s 14ms/step - loss: 0.3145 - accuracy: 0.8472 - val_loss: 0.3204 - val_accuracy: 0.8442\n",
            "Epoch 19/50\n",
            "41/41 [==============================] - 1s 15ms/step - loss: 0.2707 - accuracy: 0.8761 - val_loss: 0.3530 - val_accuracy: 0.8193\n",
            "Epoch 20/50\n",
            "41/41 [==============================] - 1s 15ms/step - loss: 0.2543 - accuracy: 0.8839 - val_loss: 0.3468 - val_accuracy: 0.8380\n",
            "Epoch 21/50\n",
            "41/41 [==============================] - 1s 15ms/step - loss: 0.2797 - accuracy: 0.8675 - val_loss: 0.3219 - val_accuracy: 0.8567\n",
            "Epoch 22/50\n",
            "41/41 [==============================] - 1s 14ms/step - loss: 0.3185 - accuracy: 0.8659 - val_loss: 0.3140 - val_accuracy: 0.8536\n",
            "Epoch 23/50\n",
            "41/41 [==============================] - 1s 15ms/step - loss: 0.2536 - accuracy: 0.8956 - val_loss: 0.3090 - val_accuracy: 0.8660\n",
            "Epoch 24/50\n",
            "41/41 [==============================] - 1s 15ms/step - loss: 0.3237 - accuracy: 0.8472 - val_loss: 0.3081 - val_accuracy: 0.8536\n",
            "Epoch 25/50\n",
            "41/41 [==============================] - 1s 15ms/step - loss: 0.2512 - accuracy: 0.8893 - val_loss: 0.3093 - val_accuracy: 0.8629\n",
            "Epoch 26/50\n",
            "41/41 [==============================] - 1s 15ms/step - loss: 0.2476 - accuracy: 0.8885 - val_loss: 0.3420 - val_accuracy: 0.8505\n"
          ],
          "name": "stdout"
        },
        {
          "output_type": "execute_result",
          "data": {
            "text/plain": [
              "<tensorflow.python.keras.callbacks.History at 0x7fbe300c8f98>"
            ]
          },
          "metadata": {
            "tags": []
          },
          "execution_count": 20
        }
      ]
    },
    {
      "cell_type": "markdown",
      "metadata": {
        "id": "hNn75lY2_96y"
      },
      "source": [
        "# Evaluate model\n",
        "\n"
      ]
    },
    {
      "cell_type": "code",
      "metadata": {
        "id": "EWxN8WT6l6_v",
        "outputId": "aac2e0eb-e884-4e4a-9cce-481e73c71327",
        "colab": {
          "base_uri": "https://localhost:8080/",
          "height": 70
        }
      },
      "source": [
        "model.load_weights(filepath=file_path)\n",
        "score = model.evaluate(X_valid, y_valid, verbose=1)\n",
        "print('Test loss', score[0])\n",
        "print('Test accuracy', score[1])"
      ],
      "execution_count": 21,
      "outputs": [
        {
          "output_type": "stream",
          "text": [
            "11/11 [==============================] - 0s 7ms/step - loss: 0.3042 - accuracy: 0.8474\n",
            "Test loss 0.30422085523605347\n",
            "Test accuracy 0.8473520278930664\n"
          ],
          "name": "stdout"
        }
      ]
    },
    {
      "cell_type": "markdown",
      "metadata": {
        "id": "snSK1UvnAkE1"
      },
      "source": [
        "- 84.74%의 정확도 0.30의 loss를 얻었다. "
      ]
    },
    {
      "cell_type": "code",
      "metadata": {
        "id": "RoOvJquy3tDR",
        "outputId": "e281d5d3-a3d0-48d3-f422-a45a42c0350a",
        "colab": {
          "base_uri": "https://localhost:8080/",
          "height": 140
        }
      },
      "source": [
        "predict_test = model.predict(X_test)\n",
        "predict_test"
      ],
      "execution_count": 26,
      "outputs": [
        {
          "output_type": "execute_result",
          "data": {
            "text/plain": [
              "array([[1.3824740e-01],\n",
              "       [5.1285958e-01],\n",
              "       [4.0762185e-09],\n",
              "       ...,\n",
              "       [4.4928849e-02],\n",
              "       [9.9955374e-01],\n",
              "       [4.1513722e-03]], dtype=float32)"
            ]
          },
          "metadata": {
            "tags": []
          },
          "execution_count": 26
        }
      ]
    },
    {
      "cell_type": "code",
      "metadata": {
        "id": "yUT_jrzyAM7R"
      },
      "source": [
        "submission = pd.DataFrame()\n",
        "submission['id'] = test['id']\n",
        "submission['is_iceberg']=predict_test.reshape((predict_test.shape[0]))\n",
        "submission.to_csv('sub.csv', index=False)"
      ],
      "execution_count": 24,
      "outputs": []
    }
  ]
}